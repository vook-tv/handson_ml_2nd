{
  "nbformat": 4,
  "nbformat_minor": 0,
  "metadata": {
    "colab": {
      "name": "Chapter12-텐서플로를 사용한 사용자 정의 모델과 훈련.ipynb",
      "provenance": [],
      "collapsed_sections": []
    },
    "kernelspec": {
      "name": "python3",
      "display_name": "Python 3"
    }
  },
  "cells": [
    {
      "cell_type": "markdown",
      "metadata": {
        "id": "lYojvEJjk3gG"
      },
      "source": [
        "# 12.2 넘파이처럼 텐서플로 사용하기"
      ]
    },
    {
      "cell_type": "code",
      "metadata": {
        "id": "6PbnUxnkk_I6"
      },
      "source": [
        "import tensorflow as tf\n",
        "import numpy as np"
      ],
      "execution_count": 1,
      "outputs": []
    },
    {
      "cell_type": "markdown",
      "metadata": {
        "id": "MMqpA8cqlB4N"
      },
      "source": [
        "## 12.2.1 텐서와 연산"
      ]
    },
    {
      "cell_type": "code",
      "metadata": {
        "colab": {
          "base_uri": "https://localhost:8080/"
        },
        "id": "F9Zst3JUlD_s",
        "outputId": "1cf2c0c4-fa5d-4bb6-beb6-480b06281083"
      },
      "source": [
        "tf.constant([[1., 2., 3.], [4., 5., 6.]]) # 행렬"
      ],
      "execution_count": 2,
      "outputs": [
        {
          "output_type": "execute_result",
          "data": {
            "text/plain": [
              "<tf.Tensor: shape=(2, 3), dtype=float32, numpy=\n",
              "array([[1., 2., 3.],\n",
              "       [4., 5., 6.]], dtype=float32)>"
            ]
          },
          "metadata": {
            "tags": []
          },
          "execution_count": 2
        }
      ]
    },
    {
      "cell_type": "code",
      "metadata": {
        "colab": {
          "base_uri": "https://localhost:8080/"
        },
        "id": "Lm48dIfSlIe8",
        "outputId": "942bda1a-8ade-4e44-aefa-9ab93c43e024"
      },
      "source": [
        "tf.constant(42) # 스칼라"
      ],
      "execution_count": 3,
      "outputs": [
        {
          "output_type": "execute_result",
          "data": {
            "text/plain": [
              "<tf.Tensor: shape=(), dtype=int32, numpy=42>"
            ]
          },
          "metadata": {
            "tags": []
          },
          "execution_count": 3
        }
      ]
    },
    {
      "cell_type": "code",
      "metadata": {
        "colab": {
          "base_uri": "https://localhost:8080/"
        },
        "id": "mHxLlY9xlK0W",
        "outputId": "41a39b44-7dae-4653-f023-57f5a1637ddb"
      },
      "source": [
        "t = tf.constant([[1., 2., 3.], [4., 5., 6.]])\n",
        "t.shape"
      ],
      "execution_count": 4,
      "outputs": [
        {
          "output_type": "execute_result",
          "data": {
            "text/plain": [
              "TensorShape([2, 3])"
            ]
          },
          "metadata": {
            "tags": []
          },
          "execution_count": 4
        }
      ]
    },
    {
      "cell_type": "code",
      "metadata": {
        "colab": {
          "base_uri": "https://localhost:8080/"
        },
        "id": "eolwxqDnlP04",
        "outputId": "57b27352-3521-4e0d-cb77-73505ba06cd2"
      },
      "source": [
        "t.dtype"
      ],
      "execution_count": 5,
      "outputs": [
        {
          "output_type": "execute_result",
          "data": {
            "text/plain": [
              "tf.float32"
            ]
          },
          "metadata": {
            "tags": []
          },
          "execution_count": 5
        }
      ]
    },
    {
      "cell_type": "code",
      "metadata": {
        "colab": {
          "base_uri": "https://localhost:8080/"
        },
        "id": "dB3bmxN6lSge",
        "outputId": "3a68f12d-fa24-4949-9956-9296408c15fa"
      },
      "source": [
        "t[:, 1:]"
      ],
      "execution_count": 6,
      "outputs": [
        {
          "output_type": "execute_result",
          "data": {
            "text/plain": [
              "<tf.Tensor: shape=(2, 2), dtype=float32, numpy=\n",
              "array([[2., 3.],\n",
              "       [5., 6.]], dtype=float32)>"
            ]
          },
          "metadata": {
            "tags": []
          },
          "execution_count": 6
        }
      ]
    },
    {
      "cell_type": "code",
      "metadata": {
        "colab": {
          "base_uri": "https://localhost:8080/"
        },
        "id": "_GGVxDQqlULG",
        "outputId": "c0d9603b-17a0-4e6e-b7b7-c890becdf977"
      },
      "source": [
        "t[..., 1, tf.newaxis]"
      ],
      "execution_count": 7,
      "outputs": [
        {
          "output_type": "execute_result",
          "data": {
            "text/plain": [
              "<tf.Tensor: shape=(2, 1), dtype=float32, numpy=\n",
              "array([[2.],\n",
              "       [5.]], dtype=float32)>"
            ]
          },
          "metadata": {
            "tags": []
          },
          "execution_count": 7
        }
      ]
    },
    {
      "cell_type": "code",
      "metadata": {
        "colab": {
          "base_uri": "https://localhost:8080/"
        },
        "id": "yYAHCuyblXqf",
        "outputId": "6e4e5d5f-8b35-4b83-d759-c858afd2e6a5"
      },
      "source": [
        "t + 10"
      ],
      "execution_count": 8,
      "outputs": [
        {
          "output_type": "execute_result",
          "data": {
            "text/plain": [
              "<tf.Tensor: shape=(2, 3), dtype=float32, numpy=\n",
              "array([[11., 12., 13.],\n",
              "       [14., 15., 16.]], dtype=float32)>"
            ]
          },
          "metadata": {
            "tags": []
          },
          "execution_count": 8
        }
      ]
    },
    {
      "cell_type": "code",
      "metadata": {
        "colab": {
          "base_uri": "https://localhost:8080/"
        },
        "id": "FoPtdKWUlYwR",
        "outputId": "0c55954d-a4be-49e4-9001-31efc685f37a"
      },
      "source": [
        "tf.square(t)"
      ],
      "execution_count": 10,
      "outputs": [
        {
          "output_type": "execute_result",
          "data": {
            "text/plain": [
              "<tf.Tensor: shape=(2, 3), dtype=float32, numpy=\n",
              "array([[ 1.,  4.,  9.],\n",
              "       [16., 25., 36.]], dtype=float32)>"
            ]
          },
          "metadata": {
            "tags": []
          },
          "execution_count": 10
        }
      ]
    },
    {
      "cell_type": "code",
      "metadata": {
        "colab": {
          "base_uri": "https://localhost:8080/"
        },
        "id": "41X_1k9HlaVl",
        "outputId": "d01602ec-dc53-4cd7-ab42-68aabb613c8e"
      },
      "source": [
        "t @ tf.transpose(t)"
      ],
      "execution_count": 11,
      "outputs": [
        {
          "output_type": "execute_result",
          "data": {
            "text/plain": [
              "<tf.Tensor: shape=(2, 2), dtype=float32, numpy=\n",
              "array([[14., 32.],\n",
              "       [32., 77.]], dtype=float32)>"
            ]
          },
          "metadata": {
            "tags": []
          },
          "execution_count": 11
        }
      ]
    },
    {
      "cell_type": "markdown",
      "metadata": {
        "id": "Y36CuuSsleg-"
      },
      "source": [
        "## 12.2.2 텐서와 넘파이"
      ]
    },
    {
      "cell_type": "code",
      "metadata": {
        "colab": {
          "base_uri": "https://localhost:8080/"
        },
        "id": "q7sJeBaHlg_q",
        "outputId": "736afbd8-6e50-4c6f-ca1d-637509420323"
      },
      "source": [
        "a = np.array([2., 4., 5.])\n",
        "tf.constant(a)"
      ],
      "execution_count": 12,
      "outputs": [
        {
          "output_type": "execute_result",
          "data": {
            "text/plain": [
              "<tf.Tensor: shape=(3,), dtype=float64, numpy=array([2., 4., 5.])>"
            ]
          },
          "metadata": {
            "tags": []
          },
          "execution_count": 12
        }
      ]
    },
    {
      "cell_type": "code",
      "metadata": {
        "colab": {
          "base_uri": "https://localhost:8080/"
        },
        "id": "qIlwaz8blkjd",
        "outputId": "a4de78b9-83e2-4724-b125-b56d685ce8d0"
      },
      "source": [
        "t.numpy() # 또는 np.array(t)"
      ],
      "execution_count": 13,
      "outputs": [
        {
          "output_type": "execute_result",
          "data": {
            "text/plain": [
              "array([[1., 2., 3.],\n",
              "       [4., 5., 6.]], dtype=float32)"
            ]
          },
          "metadata": {
            "tags": []
          },
          "execution_count": 13
        }
      ]
    },
    {
      "cell_type": "code",
      "metadata": {
        "colab": {
          "base_uri": "https://localhost:8080/"
        },
        "id": "QnzMb9yqln7E",
        "outputId": "3de9e262-a8af-4a06-8ff2-acf2477a3e12"
      },
      "source": [
        "tf.square(a)"
      ],
      "execution_count": 14,
      "outputs": [
        {
          "output_type": "execute_result",
          "data": {
            "text/plain": [
              "<tf.Tensor: shape=(3,), dtype=float64, numpy=array([ 4., 16., 25.])>"
            ]
          },
          "metadata": {
            "tags": []
          },
          "execution_count": 14
        }
      ]
    },
    {
      "cell_type": "code",
      "metadata": {
        "colab": {
          "base_uri": "https://localhost:8080/"
        },
        "id": "wUANV-Eelp0H",
        "outputId": "0ebb9159-6a27-4e4d-d4c0-3dda35d7f981"
      },
      "source": [
        "np.square(t)"
      ],
      "execution_count": 15,
      "outputs": [
        {
          "output_type": "execute_result",
          "data": {
            "text/plain": [
              "array([[ 1.,  4.,  9.],\n",
              "       [16., 25., 36.]], dtype=float32)"
            ]
          },
          "metadata": {
            "tags": []
          },
          "execution_count": 15
        }
      ]
    },
    {
      "cell_type": "markdown",
      "metadata": {
        "id": "q84kYU0xlrJe"
      },
      "source": [
        "## 12.2.3 타입 변환"
      ]
    },
    {
      "cell_type": "code",
      "metadata": {
        "colab": {
          "base_uri": "https://localhost:8080/",
          "height": 232
        },
        "id": "-4aWkgm5ltlz",
        "outputId": "b8e01694-5076-4bc6-8987-5e241594822a"
      },
      "source": [
        "tf.constant(2.) + tf.constant(40) # 에러 발생!!"
      ],
      "execution_count": 16,
      "outputs": [
        {
          "output_type": "error",
          "ename": "InvalidArgumentError",
          "evalue": "ignored",
          "traceback": [
            "\u001b[0;31m---------------------------------------------------------------------------\u001b[0m",
            "\u001b[0;31mInvalidArgumentError\u001b[0m                      Traceback (most recent call last)",
            "\u001b[0;32m<ipython-input-16-461ac87c9b87>\u001b[0m in \u001b[0;36m<module>\u001b[0;34m()\u001b[0m\n\u001b[0;32m----> 1\u001b[0;31m \u001b[0mtf\u001b[0m\u001b[0;34m.\u001b[0m\u001b[0mconstant\u001b[0m\u001b[0;34m(\u001b[0m\u001b[0;36m2.\u001b[0m\u001b[0;34m)\u001b[0m \u001b[0;34m+\u001b[0m \u001b[0mtf\u001b[0m\u001b[0;34m.\u001b[0m\u001b[0mconstant\u001b[0m\u001b[0;34m(\u001b[0m\u001b[0;36m40\u001b[0m\u001b[0;34m)\u001b[0m \u001b[0;31m# 에러 발생!!\u001b[0m\u001b[0;34m\u001b[0m\u001b[0;34m\u001b[0m\u001b[0m\n\u001b[0m",
            "\u001b[0;32m/usr/local/lib/python3.6/dist-packages/tensorflow/python/ops/math_ops.py\u001b[0m in \u001b[0;36mbinary_op_wrapper\u001b[0;34m(x, y)\u001b[0m\n\u001b[1;32m   1123\u001b[0m     \u001b[0;32mwith\u001b[0m \u001b[0mops\u001b[0m\u001b[0;34m.\u001b[0m\u001b[0mname_scope\u001b[0m\u001b[0;34m(\u001b[0m\u001b[0;32mNone\u001b[0m\u001b[0;34m,\u001b[0m \u001b[0mop_name\u001b[0m\u001b[0;34m,\u001b[0m \u001b[0;34m[\u001b[0m\u001b[0mx\u001b[0m\u001b[0;34m,\u001b[0m \u001b[0my\u001b[0m\u001b[0;34m]\u001b[0m\u001b[0;34m)\u001b[0m \u001b[0;32mas\u001b[0m \u001b[0mname\u001b[0m\u001b[0;34m:\u001b[0m\u001b[0;34m\u001b[0m\u001b[0;34m\u001b[0m\u001b[0m\n\u001b[1;32m   1124\u001b[0m       \u001b[0;32mtry\u001b[0m\u001b[0;34m:\u001b[0m\u001b[0;34m\u001b[0m\u001b[0;34m\u001b[0m\u001b[0m\n\u001b[0;32m-> 1125\u001b[0;31m         \u001b[0;32mreturn\u001b[0m \u001b[0mfunc\u001b[0m\u001b[0;34m(\u001b[0m\u001b[0mx\u001b[0m\u001b[0;34m,\u001b[0m \u001b[0my\u001b[0m\u001b[0;34m,\u001b[0m \u001b[0mname\u001b[0m\u001b[0;34m=\u001b[0m\u001b[0mname\u001b[0m\u001b[0;34m)\u001b[0m\u001b[0;34m\u001b[0m\u001b[0;34m\u001b[0m\u001b[0m\n\u001b[0m\u001b[1;32m   1126\u001b[0m       \u001b[0;32mexcept\u001b[0m \u001b[0;34m(\u001b[0m\u001b[0mTypeError\u001b[0m\u001b[0;34m,\u001b[0m \u001b[0mValueError\u001b[0m\u001b[0;34m)\u001b[0m \u001b[0;32mas\u001b[0m \u001b[0me\u001b[0m\u001b[0;34m:\u001b[0m\u001b[0;34m\u001b[0m\u001b[0;34m\u001b[0m\u001b[0m\n\u001b[1;32m   1127\u001b[0m         \u001b[0;31m# Even if dispatching the op failed, the RHS may be a tensor aware\u001b[0m\u001b[0;34m\u001b[0m\u001b[0;34m\u001b[0m\u001b[0;34m\u001b[0m\u001b[0m\n",
            "\u001b[0;32m/usr/local/lib/python3.6/dist-packages/tensorflow/python/util/dispatch.py\u001b[0m in \u001b[0;36mwrapper\u001b[0;34m(*args, **kwargs)\u001b[0m\n\u001b[1;32m    199\u001b[0m     \u001b[0;34m\"\"\"Call target, and fall back on dispatchers if there is a TypeError.\"\"\"\u001b[0m\u001b[0;34m\u001b[0m\u001b[0;34m\u001b[0m\u001b[0m\n\u001b[1;32m    200\u001b[0m     \u001b[0;32mtry\u001b[0m\u001b[0;34m:\u001b[0m\u001b[0;34m\u001b[0m\u001b[0;34m\u001b[0m\u001b[0m\n\u001b[0;32m--> 201\u001b[0;31m       \u001b[0;32mreturn\u001b[0m \u001b[0mtarget\u001b[0m\u001b[0;34m(\u001b[0m\u001b[0;34m*\u001b[0m\u001b[0margs\u001b[0m\u001b[0;34m,\u001b[0m \u001b[0;34m**\u001b[0m\u001b[0mkwargs\u001b[0m\u001b[0;34m)\u001b[0m\u001b[0;34m\u001b[0m\u001b[0;34m\u001b[0m\u001b[0m\n\u001b[0m\u001b[1;32m    202\u001b[0m     \u001b[0;32mexcept\u001b[0m \u001b[0;34m(\u001b[0m\u001b[0mTypeError\u001b[0m\u001b[0;34m,\u001b[0m \u001b[0mValueError\u001b[0m\u001b[0;34m)\u001b[0m\u001b[0;34m:\u001b[0m\u001b[0;34m\u001b[0m\u001b[0;34m\u001b[0m\u001b[0m\n\u001b[1;32m    203\u001b[0m       \u001b[0;31m# Note: convert_to_eager_tensor currently raises a ValueError, not a\u001b[0m\u001b[0;34m\u001b[0m\u001b[0;34m\u001b[0m\u001b[0;34m\u001b[0m\u001b[0m\n",
            "\u001b[0;32m/usr/local/lib/python3.6/dist-packages/tensorflow/python/ops/math_ops.py\u001b[0m in \u001b[0;36m_add_dispatch\u001b[0;34m(x, y, name)\u001b[0m\n\u001b[1;32m   1445\u001b[0m     \u001b[0;32mreturn\u001b[0m \u001b[0mgen_math_ops\u001b[0m\u001b[0;34m.\u001b[0m\u001b[0madd\u001b[0m\u001b[0;34m(\u001b[0m\u001b[0mx\u001b[0m\u001b[0;34m,\u001b[0m \u001b[0my\u001b[0m\u001b[0;34m,\u001b[0m \u001b[0mname\u001b[0m\u001b[0;34m=\u001b[0m\u001b[0mname\u001b[0m\u001b[0;34m)\u001b[0m\u001b[0;34m\u001b[0m\u001b[0;34m\u001b[0m\u001b[0m\n\u001b[1;32m   1446\u001b[0m   \u001b[0;32melse\u001b[0m\u001b[0;34m:\u001b[0m\u001b[0;34m\u001b[0m\u001b[0;34m\u001b[0m\u001b[0m\n\u001b[0;32m-> 1447\u001b[0;31m     \u001b[0;32mreturn\u001b[0m \u001b[0mgen_math_ops\u001b[0m\u001b[0;34m.\u001b[0m\u001b[0madd_v2\u001b[0m\u001b[0;34m(\u001b[0m\u001b[0mx\u001b[0m\u001b[0;34m,\u001b[0m \u001b[0my\u001b[0m\u001b[0;34m,\u001b[0m \u001b[0mname\u001b[0m\u001b[0;34m=\u001b[0m\u001b[0mname\u001b[0m\u001b[0;34m)\u001b[0m\u001b[0;34m\u001b[0m\u001b[0;34m\u001b[0m\u001b[0m\n\u001b[0m\u001b[1;32m   1448\u001b[0m \u001b[0;34m\u001b[0m\u001b[0m\n\u001b[1;32m   1449\u001b[0m \u001b[0;34m\u001b[0m\u001b[0m\n",
            "\u001b[0;32m/usr/local/lib/python3.6/dist-packages/tensorflow/python/ops/gen_math_ops.py\u001b[0m in \u001b[0;36madd_v2\u001b[0;34m(x, y, name)\u001b[0m\n\u001b[1;32m    484\u001b[0m       \u001b[0;32mreturn\u001b[0m \u001b[0m_result\u001b[0m\u001b[0;34m\u001b[0m\u001b[0;34m\u001b[0m\u001b[0m\n\u001b[1;32m    485\u001b[0m     \u001b[0;32mexcept\u001b[0m \u001b[0m_core\u001b[0m\u001b[0;34m.\u001b[0m\u001b[0m_NotOkStatusException\u001b[0m \u001b[0;32mas\u001b[0m \u001b[0me\u001b[0m\u001b[0;34m:\u001b[0m\u001b[0;34m\u001b[0m\u001b[0;34m\u001b[0m\u001b[0m\n\u001b[0;32m--> 486\u001b[0;31m       \u001b[0m_ops\u001b[0m\u001b[0;34m.\u001b[0m\u001b[0mraise_from_not_ok_status\u001b[0m\u001b[0;34m(\u001b[0m\u001b[0me\u001b[0m\u001b[0;34m,\u001b[0m \u001b[0mname\u001b[0m\u001b[0;34m)\u001b[0m\u001b[0;34m\u001b[0m\u001b[0;34m\u001b[0m\u001b[0m\n\u001b[0m\u001b[1;32m    487\u001b[0m     \u001b[0;32mexcept\u001b[0m \u001b[0m_core\u001b[0m\u001b[0;34m.\u001b[0m\u001b[0m_FallbackException\u001b[0m\u001b[0;34m:\u001b[0m\u001b[0;34m\u001b[0m\u001b[0;34m\u001b[0m\u001b[0m\n\u001b[1;32m    488\u001b[0m       \u001b[0;32mpass\u001b[0m\u001b[0;34m\u001b[0m\u001b[0;34m\u001b[0m\u001b[0m\n",
            "\u001b[0;32m/usr/local/lib/python3.6/dist-packages/tensorflow/python/framework/ops.py\u001b[0m in \u001b[0;36mraise_from_not_ok_status\u001b[0;34m(e, name)\u001b[0m\n\u001b[1;32m   6841\u001b[0m   \u001b[0mmessage\u001b[0m \u001b[0;34m=\u001b[0m \u001b[0me\u001b[0m\u001b[0;34m.\u001b[0m\u001b[0mmessage\u001b[0m \u001b[0;34m+\u001b[0m \u001b[0;34m(\u001b[0m\u001b[0;34m\" name: \"\u001b[0m \u001b[0;34m+\u001b[0m \u001b[0mname\u001b[0m \u001b[0;32mif\u001b[0m \u001b[0mname\u001b[0m \u001b[0;32mis\u001b[0m \u001b[0;32mnot\u001b[0m \u001b[0;32mNone\u001b[0m \u001b[0;32melse\u001b[0m \u001b[0;34m\"\"\u001b[0m\u001b[0;34m)\u001b[0m\u001b[0;34m\u001b[0m\u001b[0;34m\u001b[0m\u001b[0m\n\u001b[1;32m   6842\u001b[0m   \u001b[0;31m# pylint: disable=protected-access\u001b[0m\u001b[0;34m\u001b[0m\u001b[0;34m\u001b[0m\u001b[0;34m\u001b[0m\u001b[0m\n\u001b[0;32m-> 6843\u001b[0;31m   \u001b[0msix\u001b[0m\u001b[0;34m.\u001b[0m\u001b[0mraise_from\u001b[0m\u001b[0;34m(\u001b[0m\u001b[0mcore\u001b[0m\u001b[0;34m.\u001b[0m\u001b[0m_status_to_exception\u001b[0m\u001b[0;34m(\u001b[0m\u001b[0me\u001b[0m\u001b[0;34m.\u001b[0m\u001b[0mcode\u001b[0m\u001b[0;34m,\u001b[0m \u001b[0mmessage\u001b[0m\u001b[0;34m)\u001b[0m\u001b[0;34m,\u001b[0m \u001b[0;32mNone\u001b[0m\u001b[0;34m)\u001b[0m\u001b[0;34m\u001b[0m\u001b[0;34m\u001b[0m\u001b[0m\n\u001b[0m\u001b[1;32m   6844\u001b[0m   \u001b[0;31m# pylint: enable=protected-access\u001b[0m\u001b[0;34m\u001b[0m\u001b[0;34m\u001b[0m\u001b[0;34m\u001b[0m\u001b[0m\n\u001b[1;32m   6845\u001b[0m \u001b[0;34m\u001b[0m\u001b[0m\n",
            "\u001b[0;32m/usr/local/lib/python3.6/dist-packages/six.py\u001b[0m in \u001b[0;36mraise_from\u001b[0;34m(value, from_value)\u001b[0m\n",
            "\u001b[0;31mInvalidArgumentError\u001b[0m: cannot compute AddV2 as input #1(zero-based) was expected to be a float tensor but is a int32 tensor [Op:AddV2]"
          ]
        }
      ]
    },
    {
      "cell_type": "code",
      "metadata": {
        "colab": {
          "base_uri": "https://localhost:8080/",
          "height": 232
        },
        "id": "KPzJBZvYlybR",
        "outputId": "41ea00ae-a725-482a-f504-3c8fd2accc23"
      },
      "source": [
        "tf.constant(2.) + tf.constant(40., dtype = tf.float64) # 에러 발생!!"
      ],
      "execution_count": 17,
      "outputs": [
        {
          "output_type": "error",
          "ename": "InvalidArgumentError",
          "evalue": "ignored",
          "traceback": [
            "\u001b[0;31m---------------------------------------------------------------------------\u001b[0m",
            "\u001b[0;31mInvalidArgumentError\u001b[0m                      Traceback (most recent call last)",
            "\u001b[0;32m<ipython-input-17-2dbd3b062bea>\u001b[0m in \u001b[0;36m<module>\u001b[0;34m()\u001b[0m\n\u001b[0;32m----> 1\u001b[0;31m \u001b[0mtf\u001b[0m\u001b[0;34m.\u001b[0m\u001b[0mconstant\u001b[0m\u001b[0;34m(\u001b[0m\u001b[0;36m2.\u001b[0m\u001b[0;34m)\u001b[0m \u001b[0;34m+\u001b[0m \u001b[0mtf\u001b[0m\u001b[0;34m.\u001b[0m\u001b[0mconstant\u001b[0m\u001b[0;34m(\u001b[0m\u001b[0;36m40.\u001b[0m\u001b[0;34m,\u001b[0m \u001b[0mdtype\u001b[0m \u001b[0;34m=\u001b[0m \u001b[0mtf\u001b[0m\u001b[0;34m.\u001b[0m\u001b[0mfloat64\u001b[0m\u001b[0;34m)\u001b[0m \u001b[0;31m# 에러 발생!!\u001b[0m\u001b[0;34m\u001b[0m\u001b[0;34m\u001b[0m\u001b[0m\n\u001b[0m",
            "\u001b[0;32m/usr/local/lib/python3.6/dist-packages/tensorflow/python/ops/math_ops.py\u001b[0m in \u001b[0;36mbinary_op_wrapper\u001b[0;34m(x, y)\u001b[0m\n\u001b[1;32m   1123\u001b[0m     \u001b[0;32mwith\u001b[0m \u001b[0mops\u001b[0m\u001b[0;34m.\u001b[0m\u001b[0mname_scope\u001b[0m\u001b[0;34m(\u001b[0m\u001b[0;32mNone\u001b[0m\u001b[0;34m,\u001b[0m \u001b[0mop_name\u001b[0m\u001b[0;34m,\u001b[0m \u001b[0;34m[\u001b[0m\u001b[0mx\u001b[0m\u001b[0;34m,\u001b[0m \u001b[0my\u001b[0m\u001b[0;34m]\u001b[0m\u001b[0;34m)\u001b[0m \u001b[0;32mas\u001b[0m \u001b[0mname\u001b[0m\u001b[0;34m:\u001b[0m\u001b[0;34m\u001b[0m\u001b[0;34m\u001b[0m\u001b[0m\n\u001b[1;32m   1124\u001b[0m       \u001b[0;32mtry\u001b[0m\u001b[0;34m:\u001b[0m\u001b[0;34m\u001b[0m\u001b[0;34m\u001b[0m\u001b[0m\n\u001b[0;32m-> 1125\u001b[0;31m         \u001b[0;32mreturn\u001b[0m \u001b[0mfunc\u001b[0m\u001b[0;34m(\u001b[0m\u001b[0mx\u001b[0m\u001b[0;34m,\u001b[0m \u001b[0my\u001b[0m\u001b[0;34m,\u001b[0m \u001b[0mname\u001b[0m\u001b[0;34m=\u001b[0m\u001b[0mname\u001b[0m\u001b[0;34m)\u001b[0m\u001b[0;34m\u001b[0m\u001b[0;34m\u001b[0m\u001b[0m\n\u001b[0m\u001b[1;32m   1126\u001b[0m       \u001b[0;32mexcept\u001b[0m \u001b[0;34m(\u001b[0m\u001b[0mTypeError\u001b[0m\u001b[0;34m,\u001b[0m \u001b[0mValueError\u001b[0m\u001b[0;34m)\u001b[0m \u001b[0;32mas\u001b[0m \u001b[0me\u001b[0m\u001b[0;34m:\u001b[0m\u001b[0;34m\u001b[0m\u001b[0;34m\u001b[0m\u001b[0m\n\u001b[1;32m   1127\u001b[0m         \u001b[0;31m# Even if dispatching the op failed, the RHS may be a tensor aware\u001b[0m\u001b[0;34m\u001b[0m\u001b[0;34m\u001b[0m\u001b[0;34m\u001b[0m\u001b[0m\n",
            "\u001b[0;32m/usr/local/lib/python3.6/dist-packages/tensorflow/python/util/dispatch.py\u001b[0m in \u001b[0;36mwrapper\u001b[0;34m(*args, **kwargs)\u001b[0m\n\u001b[1;32m    199\u001b[0m     \u001b[0;34m\"\"\"Call target, and fall back on dispatchers if there is a TypeError.\"\"\"\u001b[0m\u001b[0;34m\u001b[0m\u001b[0;34m\u001b[0m\u001b[0m\n\u001b[1;32m    200\u001b[0m     \u001b[0;32mtry\u001b[0m\u001b[0;34m:\u001b[0m\u001b[0;34m\u001b[0m\u001b[0;34m\u001b[0m\u001b[0m\n\u001b[0;32m--> 201\u001b[0;31m       \u001b[0;32mreturn\u001b[0m \u001b[0mtarget\u001b[0m\u001b[0;34m(\u001b[0m\u001b[0;34m*\u001b[0m\u001b[0margs\u001b[0m\u001b[0;34m,\u001b[0m \u001b[0;34m**\u001b[0m\u001b[0mkwargs\u001b[0m\u001b[0;34m)\u001b[0m\u001b[0;34m\u001b[0m\u001b[0;34m\u001b[0m\u001b[0m\n\u001b[0m\u001b[1;32m    202\u001b[0m     \u001b[0;32mexcept\u001b[0m \u001b[0;34m(\u001b[0m\u001b[0mTypeError\u001b[0m\u001b[0;34m,\u001b[0m \u001b[0mValueError\u001b[0m\u001b[0;34m)\u001b[0m\u001b[0;34m:\u001b[0m\u001b[0;34m\u001b[0m\u001b[0;34m\u001b[0m\u001b[0m\n\u001b[1;32m    203\u001b[0m       \u001b[0;31m# Note: convert_to_eager_tensor currently raises a ValueError, not a\u001b[0m\u001b[0;34m\u001b[0m\u001b[0;34m\u001b[0m\u001b[0;34m\u001b[0m\u001b[0m\n",
            "\u001b[0;32m/usr/local/lib/python3.6/dist-packages/tensorflow/python/ops/math_ops.py\u001b[0m in \u001b[0;36m_add_dispatch\u001b[0;34m(x, y, name)\u001b[0m\n\u001b[1;32m   1445\u001b[0m     \u001b[0;32mreturn\u001b[0m \u001b[0mgen_math_ops\u001b[0m\u001b[0;34m.\u001b[0m\u001b[0madd\u001b[0m\u001b[0;34m(\u001b[0m\u001b[0mx\u001b[0m\u001b[0;34m,\u001b[0m \u001b[0my\u001b[0m\u001b[0;34m,\u001b[0m \u001b[0mname\u001b[0m\u001b[0;34m=\u001b[0m\u001b[0mname\u001b[0m\u001b[0;34m)\u001b[0m\u001b[0;34m\u001b[0m\u001b[0;34m\u001b[0m\u001b[0m\n\u001b[1;32m   1446\u001b[0m   \u001b[0;32melse\u001b[0m\u001b[0;34m:\u001b[0m\u001b[0;34m\u001b[0m\u001b[0;34m\u001b[0m\u001b[0m\n\u001b[0;32m-> 1447\u001b[0;31m     \u001b[0;32mreturn\u001b[0m \u001b[0mgen_math_ops\u001b[0m\u001b[0;34m.\u001b[0m\u001b[0madd_v2\u001b[0m\u001b[0;34m(\u001b[0m\u001b[0mx\u001b[0m\u001b[0;34m,\u001b[0m \u001b[0my\u001b[0m\u001b[0;34m,\u001b[0m \u001b[0mname\u001b[0m\u001b[0;34m=\u001b[0m\u001b[0mname\u001b[0m\u001b[0;34m)\u001b[0m\u001b[0;34m\u001b[0m\u001b[0;34m\u001b[0m\u001b[0m\n\u001b[0m\u001b[1;32m   1448\u001b[0m \u001b[0;34m\u001b[0m\u001b[0m\n\u001b[1;32m   1449\u001b[0m \u001b[0;34m\u001b[0m\u001b[0m\n",
            "\u001b[0;32m/usr/local/lib/python3.6/dist-packages/tensorflow/python/ops/gen_math_ops.py\u001b[0m in \u001b[0;36madd_v2\u001b[0;34m(x, y, name)\u001b[0m\n\u001b[1;32m    484\u001b[0m       \u001b[0;32mreturn\u001b[0m \u001b[0m_result\u001b[0m\u001b[0;34m\u001b[0m\u001b[0;34m\u001b[0m\u001b[0m\n\u001b[1;32m    485\u001b[0m     \u001b[0;32mexcept\u001b[0m \u001b[0m_core\u001b[0m\u001b[0;34m.\u001b[0m\u001b[0m_NotOkStatusException\u001b[0m \u001b[0;32mas\u001b[0m \u001b[0me\u001b[0m\u001b[0;34m:\u001b[0m\u001b[0;34m\u001b[0m\u001b[0;34m\u001b[0m\u001b[0m\n\u001b[0;32m--> 486\u001b[0;31m       \u001b[0m_ops\u001b[0m\u001b[0;34m.\u001b[0m\u001b[0mraise_from_not_ok_status\u001b[0m\u001b[0;34m(\u001b[0m\u001b[0me\u001b[0m\u001b[0;34m,\u001b[0m \u001b[0mname\u001b[0m\u001b[0;34m)\u001b[0m\u001b[0;34m\u001b[0m\u001b[0;34m\u001b[0m\u001b[0m\n\u001b[0m\u001b[1;32m    487\u001b[0m     \u001b[0;32mexcept\u001b[0m \u001b[0m_core\u001b[0m\u001b[0;34m.\u001b[0m\u001b[0m_FallbackException\u001b[0m\u001b[0;34m:\u001b[0m\u001b[0;34m\u001b[0m\u001b[0;34m\u001b[0m\u001b[0m\n\u001b[1;32m    488\u001b[0m       \u001b[0;32mpass\u001b[0m\u001b[0;34m\u001b[0m\u001b[0;34m\u001b[0m\u001b[0m\n",
            "\u001b[0;32m/usr/local/lib/python3.6/dist-packages/tensorflow/python/framework/ops.py\u001b[0m in \u001b[0;36mraise_from_not_ok_status\u001b[0;34m(e, name)\u001b[0m\n\u001b[1;32m   6841\u001b[0m   \u001b[0mmessage\u001b[0m \u001b[0;34m=\u001b[0m \u001b[0me\u001b[0m\u001b[0;34m.\u001b[0m\u001b[0mmessage\u001b[0m \u001b[0;34m+\u001b[0m \u001b[0;34m(\u001b[0m\u001b[0;34m\" name: \"\u001b[0m \u001b[0;34m+\u001b[0m \u001b[0mname\u001b[0m \u001b[0;32mif\u001b[0m \u001b[0mname\u001b[0m \u001b[0;32mis\u001b[0m \u001b[0;32mnot\u001b[0m \u001b[0;32mNone\u001b[0m \u001b[0;32melse\u001b[0m \u001b[0;34m\"\"\u001b[0m\u001b[0;34m)\u001b[0m\u001b[0;34m\u001b[0m\u001b[0;34m\u001b[0m\u001b[0m\n\u001b[1;32m   6842\u001b[0m   \u001b[0;31m# pylint: disable=protected-access\u001b[0m\u001b[0;34m\u001b[0m\u001b[0;34m\u001b[0m\u001b[0;34m\u001b[0m\u001b[0m\n\u001b[0;32m-> 6843\u001b[0;31m   \u001b[0msix\u001b[0m\u001b[0;34m.\u001b[0m\u001b[0mraise_from\u001b[0m\u001b[0;34m(\u001b[0m\u001b[0mcore\u001b[0m\u001b[0;34m.\u001b[0m\u001b[0m_status_to_exception\u001b[0m\u001b[0;34m(\u001b[0m\u001b[0me\u001b[0m\u001b[0;34m.\u001b[0m\u001b[0mcode\u001b[0m\u001b[0;34m,\u001b[0m \u001b[0mmessage\u001b[0m\u001b[0;34m)\u001b[0m\u001b[0;34m,\u001b[0m \u001b[0;32mNone\u001b[0m\u001b[0;34m)\u001b[0m\u001b[0;34m\u001b[0m\u001b[0;34m\u001b[0m\u001b[0m\n\u001b[0m\u001b[1;32m   6844\u001b[0m   \u001b[0;31m# pylint: enable=protected-access\u001b[0m\u001b[0;34m\u001b[0m\u001b[0;34m\u001b[0m\u001b[0;34m\u001b[0m\u001b[0m\n\u001b[1;32m   6845\u001b[0m \u001b[0;34m\u001b[0m\u001b[0m\n",
            "\u001b[0;32m/usr/local/lib/python3.6/dist-packages/six.py\u001b[0m in \u001b[0;36mraise_from\u001b[0;34m(value, from_value)\u001b[0m\n",
            "\u001b[0;31mInvalidArgumentError\u001b[0m: cannot compute AddV2 as input #1(zero-based) was expected to be a float tensor but is a double tensor [Op:AddV2]"
          ]
        }
      ]
    },
    {
      "cell_type": "code",
      "metadata": {
        "colab": {
          "base_uri": "https://localhost:8080/"
        },
        "id": "2XCW0FoTl4I6",
        "outputId": "d855d0ac-ddc8-44ff-cc83-4cc014905323"
      },
      "source": [
        "t2 = tf.constant(40., dtype = tf.float64)\n",
        "tf.constant(2.0) + tf.cast(t2, tf.float32)"
      ],
      "execution_count": 18,
      "outputs": [
        {
          "output_type": "execute_result",
          "data": {
            "text/plain": [
              "<tf.Tensor: shape=(), dtype=float32, numpy=42.0>"
            ]
          },
          "metadata": {
            "tags": []
          },
          "execution_count": 18
        }
      ]
    },
    {
      "cell_type": "markdown",
      "metadata": {
        "id": "cUP4HLOYmAV8"
      },
      "source": [
        "## 12.2.4 변수"
      ]
    },
    {
      "cell_type": "code",
      "metadata": {
        "colab": {
          "base_uri": "https://localhost:8080/"
        },
        "id": "ap_icTbomCix",
        "outputId": "ee4ca547-5f98-4fff-9460-6f24a8e8e582"
      },
      "source": [
        "v = tf.Variable([[1.,   2., 3.], [4., 5., 6.]])\n",
        "v"
      ],
      "execution_count": 19,
      "outputs": [
        {
          "output_type": "execute_result",
          "data": {
            "text/plain": [
              "<tf.Variable 'Variable:0' shape=(2, 3) dtype=float32, numpy=\n",
              "array([[1., 2., 3.],\n",
              "       [4., 5., 6.]], dtype=float32)>"
            ]
          },
          "metadata": {
            "tags": []
          },
          "execution_count": 19
        }
      ]
    },
    {
      "cell_type": "code",
      "metadata": {
        "colab": {
          "base_uri": "https://localhost:8080/"
        },
        "id": "VlJ5QfWhmG1s",
        "outputId": "837c842b-bb5d-4801-ab70-d5c78eca8e68"
      },
      "source": [
        "v.assign(2 * v)"
      ],
      "execution_count": 20,
      "outputs": [
        {
          "output_type": "execute_result",
          "data": {
            "text/plain": [
              "<tf.Variable 'UnreadVariable' shape=(2, 3) dtype=float32, numpy=\n",
              "array([[ 2.,  4.,  6.],\n",
              "       [ 8., 10., 12.]], dtype=float32)>"
            ]
          },
          "metadata": {
            "tags": []
          },
          "execution_count": 20
        }
      ]
    },
    {
      "cell_type": "code",
      "metadata": {
        "colab": {
          "base_uri": "https://localhost:8080/"
        },
        "id": "-ZBxSbRjmJpv",
        "outputId": "0bbb71a1-21f0-49a8-be02-75fee1dd8207"
      },
      "source": [
        "v[0, 1].assign(42)"
      ],
      "execution_count": 21,
      "outputs": [
        {
          "output_type": "execute_result",
          "data": {
            "text/plain": [
              "<tf.Variable 'UnreadVariable' shape=(2, 3) dtype=float32, numpy=\n",
              "array([[ 2., 42.,  6.],\n",
              "       [ 8., 10., 12.]], dtype=float32)>"
            ]
          },
          "metadata": {
            "tags": []
          },
          "execution_count": 21
        }
      ]
    },
    {
      "cell_type": "code",
      "metadata": {
        "colab": {
          "base_uri": "https://localhost:8080/"
        },
        "id": "mSRjOvarmLwB",
        "outputId": "624a0629-9186-4b5f-94c9-cfffc68dfd8a"
      },
      "source": [
        "v[:, 2].assign([0., 1.])"
      ],
      "execution_count": 22,
      "outputs": [
        {
          "output_type": "execute_result",
          "data": {
            "text/plain": [
              "<tf.Variable 'UnreadVariable' shape=(2, 3) dtype=float32, numpy=\n",
              "array([[ 2., 42.,  0.],\n",
              "       [ 8., 10.,  1.]], dtype=float32)>"
            ]
          },
          "metadata": {
            "tags": []
          },
          "execution_count": 22
        }
      ]
    },
    {
      "cell_type": "code",
      "metadata": {
        "colab": {
          "base_uri": "https://localhost:8080/"
        },
        "id": "jZ72fF-fmO5R",
        "outputId": "a50e241a-c452-4457-8d3f-95b8dc00eabe"
      },
      "source": [
        "v.scatter_nd_update(indices = [[0, 0], [1, 2]], updates = [100., 200.])"
      ],
      "execution_count": 23,
      "outputs": [
        {
          "output_type": "execute_result",
          "data": {
            "text/plain": [
              "<tf.Variable 'UnreadVariable' shape=(2, 3) dtype=float32, numpy=\n",
              "array([[100.,  42.,   0.],\n",
              "       [  8.,  10., 200.]], dtype=float32)>"
            ]
          },
          "metadata": {
            "tags": []
          },
          "execution_count": 23
        }
      ]
    },
    {
      "cell_type": "markdown",
      "metadata": {
        "id": "G-PKUHPMmVey"
      },
      "source": [
        "# 12.3 사용자 정의 모델과 훈련 알고리즘"
      ]
    },
    {
      "cell_type": "markdown",
      "metadata": {
        "id": "kyP5lWAQmnSh"
      },
      "source": [
        "## 12.3.1 사용자 정의 손실 함수"
      ]
    },
    {
      "cell_type": "code",
      "metadata": {
        "id": "vkJxohxUmpRk"
      },
      "source": [
        "def huber_fn(y_true, y_pred) :\n",
        "  error = y_true - y_pred\n",
        "  is_small_error = tf.abs(error) < 1\n",
        "  squared_loss   = tf.square(error) / 2\n",
        "  linear_loss    = tf.abs(error) - 0.5\n",
        "  return tf.where(is_small_error, squared_loss, linear_loss)"
      ],
      "execution_count": 24,
      "outputs": []
    },
    {
      "cell_type": "code",
      "metadata": {
        "colab": {
          "base_uri": "https://localhost:8080/"
        },
        "id": "zHwqV36Nm7Um",
        "outputId": "4e816e31-ae14-4a38-aca7-ee6df8bd9bd0"
      },
      "source": [
        "# 책에 없지만 코드 진행을 위해 추가\n",
        "from sklearn.datasets import fetch_california_housing\n",
        "from sklearn.model_selection import train_test_split\n",
        "from sklearn.preprocessing import StandardScaler\n",
        "from tensorflow import keras\n",
        "\n",
        "housing = fetch_california_housing()\n",
        "X_train_full, X_test, y_train_full, y_test  = train_test_split(housing.data, housing.target.reshape(-1, 1), random_state = 42)\n",
        "X_train,      X_valid, y_train, y_valid     = train_test_split(X_train_full, y_train_full, random_state = 42)\n",
        "\n",
        "scaler = StandardScaler()\n",
        "X_train_scaled = scaler.fit_transform(X_train)\n",
        "X_valid_scaled = scaler.transform(X_valid)\n",
        "X_test_scaled  = scaler.transform(X_test)\n",
        "\n",
        "input_shape = X_train.shape[1:]\n",
        "model = keras.models.Sequential([\n",
        "                                 keras.layers.Dense(30, activation = \"selu\", kernel_initializer = \"lecun_normal\", input_shape = input_shape),\n",
        "                                 keras.layers.Dense(1),\n",
        "])"
      ],
      "execution_count": 26,
      "outputs": [
        {
          "output_type": "stream",
          "text": [
            "Downloading Cal. housing from https://ndownloader.figshare.com/files/5976036 to /root/scikit_learn_data\n"
          ],
          "name": "stderr"
        }
      ]
    },
    {
      "cell_type": "code",
      "metadata": {
        "id": "jzhH_8B2m-Cb"
      },
      "source": [
        "model.compile(loss = huber_fn, optimizer = \"nadam\")"
      ],
      "execution_count": 27,
      "outputs": []
    },
    {
      "cell_type": "code",
      "metadata": {
        "colab": {
          "base_uri": "https://localhost:8080/"
        },
        "id": "xkB0hrvAoDsI",
        "outputId": "98e39822-91b7-4d4e-b909-bda12b0dda21"
      },
      "source": [
        "model.fit(X_train_scaled, y_train, epochs = 2, validation_data = (X_valid_scaled, y_valid))"
      ],
      "execution_count": 28,
      "outputs": [
        {
          "output_type": "stream",
          "text": [
            "Epoch 1/2\n",
            "363/363 [==============================] - 1s 2ms/step - loss: 0.5914 - val_loss: 0.2384\n",
            "Epoch 2/2\n",
            "363/363 [==============================] - 0s 1ms/step - loss: 0.2098 - val_loss: 0.2209\n"
          ],
          "name": "stdout"
        },
        {
          "output_type": "execute_result",
          "data": {
            "text/plain": [
              "<tensorflow.python.keras.callbacks.History at 0x7ff404452828>"
            ]
          },
          "metadata": {
            "tags": []
          },
          "execution_count": 28
        }
      ]
    },
    {
      "cell_type": "markdown",
      "metadata": {
        "id": "OlQ2vltuoK2b"
      },
      "source": [
        "## 12.3.2 사용자 정의 요소를 가진 모델을 저장하고 로드하기"
      ]
    },
    {
      "cell_type": "code",
      "metadata": {
        "id": "JvoByGH7oPi7"
      },
      "source": [
        "model.save(\"my_model_with_a_custom_loss.h5\")"
      ],
      "execution_count": 29,
      "outputs": []
    },
    {
      "cell_type": "code",
      "metadata": {
        "id": "VXvHL1yRoUHo"
      },
      "source": [
        "model = keras.models.load_model(\"my_model_with_a_custom_loss.h5\", \n",
        "                                custom_objects = {\"huber_fn\" : huber_fn})"
      ],
      "execution_count": 30,
      "outputs": []
    },
    {
      "cell_type": "code",
      "metadata": {
        "id": "XljDaYBvoe4e"
      },
      "source": [
        "def create_huber(threshold = 1.0) :\n",
        "  def huber_fn(y_true, y_pred) :\n",
        "    error = y_true - y_pred\n",
        "    is_small_error = tf.abs(error) < threshold\n",
        "\n",
        "    squared_loss = tf.square(error) / 2\n",
        "    linear_loss  = threshold * tf.abs(error) - threshold ** 2 / 2\n",
        "    return tf.where(is_small_error, squared_loss, linear_loss)\n",
        "  return huber_fn\n",
        "\n",
        "model.compile(loss = create_huber(2.0), optimizer = \"nadam\")"
      ],
      "execution_count": 31,
      "outputs": []
    },
    {
      "cell_type": "code",
      "metadata": {
        "id": "Fm7uevyAo80Z"
      },
      "source": [
        "model.save(\"my_model_with_a_custom_loss_threshold_2.h5\")"
      ],
      "execution_count": 32,
      "outputs": []
    },
    {
      "cell_type": "code",
      "metadata": {
        "id": "pXdVQTtapEm2"
      },
      "source": [
        "model = keras.models.load_model(\"my_model_with_a_custom_loss_threshold_2.h5\", \n",
        "                                custom_objects = {\"huber_fn\" : create_huber(2.0)})"
      ],
      "execution_count": 33,
      "outputs": []
    },
    {
      "cell_type": "code",
      "metadata": {
        "id": "PlmLMPxVpOpO"
      },
      "source": [
        "class HuberLoss(keras.losses.Loss) :\n",
        "  def __init__(self, threshold = 1.0, **kwargs) :\n",
        "    self.threshold = threshold\n",
        "    super().__init__(**kwargs)\n",
        "\n",
        "  def call(self, y_true, y_pred) :\n",
        "    error = y_true - y_pred\n",
        "    is_small_error = tf.abs(error) < self.threshold\n",
        "\n",
        "    squared_loss = tf.square(error) / 2\n",
        "    linear_loss  = self.threshold * tf.abs(error) - self.threshold ** 2 / 2\n",
        "    return tf.where(is_small_error, squared_loss, linear_loss)\n",
        "\n",
        "  def get_config(self) :\n",
        "    base_config = super().get_config()\n",
        "    return { **base_config, \"threshold\" : self.threshold }"
      ],
      "execution_count": 34,
      "outputs": []
    },
    {
      "cell_type": "code",
      "metadata": {
        "id": "2369Futvp1p_"
      },
      "source": [
        "model.compile(loss = HuberLoss(2.), optimizer = \"nadam\")"
      ],
      "execution_count": 35,
      "outputs": []
    },
    {
      "cell_type": "code",
      "metadata": {
        "id": "U9zE3hahp77N"
      },
      "source": [
        "model.save(\"my_model_with_a_custom_loss_class.h5\")"
      ],
      "execution_count": 36,
      "outputs": []
    },
    {
      "cell_type": "code",
      "metadata": {
        "id": "hBMwqYnrp_to"
      },
      "source": [
        "model = keras.models.load_model(\"my_model_with_a_custom_loss_class.h5\", custom_objects = {\"HuberLoss\" : HuberLoss} )"
      ],
      "execution_count": 37,
      "outputs": []
    },
    {
      "cell_type": "markdown",
      "metadata": {
        "id": "wQLOZzLdqI6s"
      },
      "source": [
        "## 12.3.3 활성화 함수, 초기화, 규제, 제한을 커스터마이징하기"
      ]
    },
    {
      "cell_type": "code",
      "metadata": {
        "id": "ew18EtagqMvd"
      },
      "source": [
        "def my_softplus(z) : # tf.nn.softplus(z)와 반환값이 같습니다.\n",
        "  return tf.math.log(tf.exp(z) + 1.0)\n",
        "\n",
        "def my_glorot_initializer(shape, dtype = tf.float32) :\n",
        "  stddev = tf.sqrt(2. / (shape[0] + shape[1]))\n",
        "  return tf.random.normal(shape, stddev = stddev, dtype = dtype)\n",
        "\n",
        "def my_l1_regularizer(weights) :\n",
        "  return tf.reduce_sum(tf.abs(0.01 * weights))\n",
        "\n",
        "def my_positive_weights(weights) : # tf.nn.relu(weights)와 반환값이 같습니다.\n",
        "  return tf.where(weights < 0., tf.zeros_like(weights), weights)"
      ],
      "execution_count": 38,
      "outputs": []
    },
    {
      "cell_type": "code",
      "metadata": {
        "id": "M5erP1DOqyNs"
      },
      "source": [
        "layer = keras.layers.Dense(30, activation = my_softplus,\n",
        "                           kernel_initializer = my_glorot_initializer,\n",
        "                           kernel_regularizer = my_l1_regularizer,\n",
        "                           kernel_constraint  = my_positive_weights)"
      ],
      "execution_count": 39,
      "outputs": []
    },
    {
      "cell_type": "code",
      "metadata": {
        "id": "QJi_XyjvrHFA"
      },
      "source": [
        "class MyL1Regularizer(keras.regularizers.Regularizer) :\n",
        "  def __init__(self, factor) :\n",
        "    self.factor = factor\n",
        "  def __call__(self, weights) :\n",
        "    return tf.reduce_sum(tf.abs(self.factor * weights))\n",
        "  def get_config(self) :\n",
        "    return { \"factor\": self.factor }"
      ],
      "execution_count": 40,
      "outputs": []
    },
    {
      "cell_type": "markdown",
      "metadata": {
        "id": "w4vvN8hDreOv"
      },
      "source": [
        "## 12.3.4 사용자 정의 지표"
      ]
    },
    {
      "cell_type": "code",
      "metadata": {
        "id": "LJM1TstArh6k"
      },
      "source": [
        "model.compile(loss = \"mse\", optimizer = \"nadam\", metrics = [create_huber(2.0)])"
      ],
      "execution_count": 41,
      "outputs": []
    },
    {
      "cell_type": "code",
      "metadata": {
        "colab": {
          "base_uri": "https://localhost:8080/"
        },
        "id": "aAgYDo4ProHd",
        "outputId": "77c3eefd-12c6-4246-befa-dc487c20da0c"
      },
      "source": [
        "precision = keras.metrics.Precision()\n",
        "precision([0, 1, 1, 1, 0, 1, 0, 1], [1, 1, 0, 1, 0, 1, 0, 1])"
      ],
      "execution_count": 42,
      "outputs": [
        {
          "output_type": "execute_result",
          "data": {
            "text/plain": [
              "<tf.Tensor: shape=(), dtype=float32, numpy=0.8>"
            ]
          },
          "metadata": {
            "tags": []
          },
          "execution_count": 42
        }
      ]
    },
    {
      "cell_type": "code",
      "metadata": {
        "colab": {
          "base_uri": "https://localhost:8080/"
        },
        "id": "TcKa-GLfrwl9",
        "outputId": "35dbc3e8-ab26-4c67-ad05-f6e15718f44b"
      },
      "source": [
        "precision([0, 1, 0, 0, 1, 0, 1, 1], [1, 0, 1, 1, 0, 0, 0, 0])"
      ],
      "execution_count": 43,
      "outputs": [
        {
          "output_type": "execute_result",
          "data": {
            "text/plain": [
              "<tf.Tensor: shape=(), dtype=float32, numpy=0.5>"
            ]
          },
          "metadata": {
            "tags": []
          },
          "execution_count": 43
        }
      ]
    },
    {
      "cell_type": "code",
      "metadata": {
        "colab": {
          "base_uri": "https://localhost:8080/"
        },
        "id": "80StrohMr1Rs",
        "outputId": "a27d0a65-c326-4d43-8f36-07faa5ae7821"
      },
      "source": [
        "precision.result()"
      ],
      "execution_count": 44,
      "outputs": [
        {
          "output_type": "execute_result",
          "data": {
            "text/plain": [
              "<tf.Tensor: shape=(), dtype=float32, numpy=0.5>"
            ]
          },
          "metadata": {
            "tags": []
          },
          "execution_count": 44
        }
      ]
    },
    {
      "cell_type": "code",
      "metadata": {
        "colab": {
          "base_uri": "https://localhost:8080/"
        },
        "id": "8e95JOdnr3TU",
        "outputId": "cdcd21b6-117e-449f-a25b-4814dc9160ed"
      },
      "source": [
        "precision.variables"
      ],
      "execution_count": 45,
      "outputs": [
        {
          "output_type": "execute_result",
          "data": {
            "text/plain": [
              "[<tf.Variable 'true_positives:0' shape=(1,) dtype=float32, numpy=array([4.], dtype=float32)>,\n",
              " <tf.Variable 'false_positives:0' shape=(1,) dtype=float32, numpy=array([4.], dtype=float32)>]"
            ]
          },
          "metadata": {
            "tags": []
          },
          "execution_count": 45
        }
      ]
    },
    {
      "cell_type": "code",
      "metadata": {
        "colab": {
          "base_uri": "https://localhost:8080/"
        },
        "id": "TV0VnVjTr6UA",
        "outputId": "09707bf4-b88c-4f20-ea8c-74cc70b0cbe5"
      },
      "source": [
        "precision.reset_states # 두 변수가 0.0으로 리셋됩니다."
      ],
      "execution_count": 46,
      "outputs": [
        {
          "output_type": "execute_result",
          "data": {
            "text/plain": [
              "<bound method Precision.reset_states of <tensorflow.python.keras.metrics.Precision object at 0x7ff402fa1be0>>"
            ]
          },
          "metadata": {
            "tags": []
          },
          "execution_count": 46
        }
      ]
    },
    {
      "cell_type": "code",
      "metadata": {
        "id": "CGMys6dor_xp"
      },
      "source": [
        "class HuberMetric(keras.metrics.Metric) :\n",
        "  def __init__(self, threshold = 1.0, **kwargs) :\n",
        "    super().__init__(**kwargs) # 기본 매개변수 처리 (예를 들면, dtype)\n",
        "    self.threshold = threshold\n",
        "    self.huber_fn  = create_huber(threshold)\n",
        "    self.total = self.add_weight(\"total\", initializer = \"zeros\")\n",
        "    self.count = self.add_weight(\"count\", initializer = \"zeros\")\n",
        "\n",
        "  def update_state(self, y_true, y_pred, sample_weight = None) :\n",
        "    metric = self.huber_fn(y_true, y_pred)\n",
        "    self.total.assign_add(tf.reduce_sum(metric))\n",
        "    self.count.assign_add(tf.cast(tf.size(y_true), tf.float32))\n",
        "\n",
        "  def result(self) :\n",
        "    return self.total / self.count\n",
        "\n",
        "  def get_config(self) :\n",
        "    base_config = super().get_config()\n",
        "    return { **base_config, \"threshold\" : self.threshold }"
      ],
      "execution_count": 47,
      "outputs": []
    },
    {
      "cell_type": "markdown",
      "metadata": {
        "id": "gnOZ_ydis7Rz"
      },
      "source": [
        "## 12.3.5 사용자 정의 층"
      ]
    },
    {
      "cell_type": "code",
      "metadata": {
        "id": "-FloXTpQs-y6"
      },
      "source": [
        "class MyDense(keras.layers.Layer) :\n",
        "  def __init__(self, units, activation = None, **kwargs) :\n",
        "    super().__init__(**kwargs)\n",
        "    self.units = units\n",
        "    self.activation = keras.activations.get(activation)\n",
        "\n",
        "  def build(self, batch_input_shape) :\n",
        "    self.kernel = self.add_weight( \n",
        "        name = \"kernel\", shape = [batch_input_shape[-1], self.units],\n",
        "        initializer = \"glorot_normal\")\n",
        "    self.bias = self.add_weight(\n",
        "        name = \"bias\", shape = [self.units], initializer = \"zeros\")\n",
        "    super().build(batch_input_shape) # 마지막에 호출해야 합니다.\n",
        "\n",
        "  def call(self, X) :\n",
        "    return self.activation(X @ self.kernel + self.bias)\n",
        "\n",
        "  def compute_output_shape(self, batch_input_shape) :\n",
        "    return tf.TensorShape(batch_input_shape.as_list()[:-1] + [self.units])\n",
        "  \n",
        "  def get_config(self) :\n",
        "    base_config = super().get_config()\n",
        "    return { **base_config, \"units\": self.units, \n",
        "            \"activation\": keras.activations.serialize(self.activation)}"
      ],
      "execution_count": 49,
      "outputs": []
    },
    {
      "cell_type": "code",
      "metadata": {
        "id": "4n9AvGjvuJQa"
      },
      "source": [
        "class MyMultiLayer(keras.layers.Layer) :\n",
        "  def call(self, X) :\n",
        "    X1, X2 = X\n",
        "    return [X1 + X2, X1 * X2, X1 / X2]\n",
        "\n",
        "  def compute_output_shape(self, batch_input_shape) :\n",
        "    b1, b2 = batch_input_shape"
      ],
      "execution_count": 50,
      "outputs": []
    },
    {
      "cell_type": "markdown",
      "metadata": {
        "id": "3LG07_y1ucM8"
      },
      "source": [
        "## 12.3.6 사용자 정의 모델"
      ]
    },
    {
      "cell_type": "code",
      "metadata": {
        "id": "DJlx6pWUugP8"
      },
      "source": [
        "class ResidualBlock(keras.layers.Layer) :\n",
        "  def __init__(self, n_layters, n_neurons, **kwargs) :\n",
        "    super().__init__(**kwargs)\n",
        "    self.hidden = [keras.layers.Dense(n_neurons, activation = \"elu\", kernel_initializer = \"he_normal\")\n",
        "    for _ in range(n_layers)]\n",
        "\n",
        "  def call(self, inputs) :\n",
        "    Z = inputs\n",
        "    for layers in self.hidden:\n",
        "      Z = layer(Z)\n",
        "    return inputs + Z"
      ],
      "execution_count": 51,
      "outputs": []
    },
    {
      "cell_type": "code",
      "metadata": {
        "id": "X1vS5oZGu-4r"
      },
      "source": [
        "class ResidualRegressor(keras.Model) :\n",
        "  def __init__(self, output_dim, **kwargs) :\n",
        "    super().__init__(**kwargs)\n",
        "    self.hidden1 = keras.layers.Dense(30, activation = \"elu\", \n",
        "                                      kernel_initializer = \"he_normal\")\n",
        "    self.block1 = ResidualBlock(2, 30)\n",
        "    self.block2 = ResidualBlock(2, 30)\n",
        "    self.out = keras.layers.Dense(output_dim)\n",
        "\n",
        "  def call(self, inputs) :\n",
        "    Z = self.hidden1(inputs)\n",
        "    for _ in range(1 + 3) :\n",
        "      Z = self.block1(Z)\n",
        "\n",
        "    Z = self.block2(Z)\n",
        "    return self.out(Z)"
      ],
      "execution_count": 52,
      "outputs": []
    },
    {
      "cell_type": "markdown",
      "metadata": {
        "id": "orzDrp1zvi8D"
      },
      "source": [
        "## 12.3.7 모델 구성 요소에 기반한 손실과 지표"
      ]
    },
    {
      "cell_type": "code",
      "metadata": {
        "id": "yUCo7rCJvoI4"
      },
      "source": [
        "class ReconstructingRegressor(keras.Model) :\n",
        "  def __init__(self, output_dim, **kwargs) :\n",
        "    super().__init__(**kwargs)\n",
        "    self.hidden = [keras.layers.Dense(30, activation = \"selu\", kernel_initializer = \"lecun_normal\")\n",
        "    for _ in range(5)]\n",
        "    self.out = keras.layers.Dense(output_dim)\n",
        "\n",
        "  def build(self, batch_input_shape) :\n",
        "    n_inputs == batch_input_shape[-1]\n",
        "    self.reconstruct = keras.layers.Dense(n_inputs, name = 'recon')\n",
        "    super().build(batch_input_shape)\n",
        "\n",
        "  def call(self, inputs, training = None) :\n",
        "    Z = inputs\n",
        "    for layer in self.hidden :\n",
        "      Z = layer(Z)\n",
        "    \n",
        "    reconstruction = self.reconstruct(Z)\n",
        "    recon_loss = 0.05 * tf.reduce_mean(tf.square(reconstruction - inputs))\n",
        "    self.add_loss(0.05 * recon_loss)\n",
        "    return self.out(Z)"
      ],
      "execution_count": 53,
      "outputs": []
    },
    {
      "cell_type": "markdown",
      "metadata": {
        "id": "OBWU2kT3wgy9"
      },
      "source": [
        "## 12.3.8 자동 미분을 사용하여 그레이디언트 계산하기"
      ]
    },
    {
      "cell_type": "code",
      "metadata": {
        "id": "-im9a7JqwlzZ"
      },
      "source": [
        "def f(w1, w2) :\n",
        "  return 3 * w1 ** 2 + 2 * w1 * w2"
      ],
      "execution_count": 54,
      "outputs": []
    },
    {
      "cell_type": "code",
      "metadata": {
        "colab": {
          "base_uri": "https://localhost:8080/"
        },
        "id": "zW8Qyg6wwp3c",
        "outputId": "c12a95b1-e73a-4ba7-fac9-793eb2d9adf0"
      },
      "source": [
        "w1, w2 = 5, 3\n",
        "eps = 1e-6\n",
        "(f(w1 + eps, w2) - f(w1, w2)) / eps"
      ],
      "execution_count": 55,
      "outputs": [
        {
          "output_type": "execute_result",
          "data": {
            "text/plain": [
              "36.000003007075065"
            ]
          },
          "metadata": {
            "tags": []
          },
          "execution_count": 55
        }
      ]
    },
    {
      "cell_type": "code",
      "metadata": {
        "colab": {
          "base_uri": "https://localhost:8080/"
        },
        "id": "D9YklwQSwu_5",
        "outputId": "48356fd8-91a7-4eb4-c1ea-5c0aea3c14f5"
      },
      "source": [
        "(f(w1, w2 + eps) - f(w1, w2)) / eps"
      ],
      "execution_count": 56,
      "outputs": [
        {
          "output_type": "execute_result",
          "data": {
            "text/plain": [
              "10.000000003174137"
            ]
          },
          "metadata": {
            "tags": []
          },
          "execution_count": 56
        }
      ]
    },
    {
      "cell_type": "code",
      "metadata": {
        "id": "ORIzOw08wyIm"
      },
      "source": [
        "w1, w2 = tf.Variable(5.), tf.Variable(3.)\n",
        "with tf.GradientTape() as tape:\n",
        "  z = f(w1, w2)\n",
        "\n",
        "gradients = tape.gradient(z, [w1, w2])"
      ],
      "execution_count": 57,
      "outputs": []
    },
    {
      "cell_type": "code",
      "metadata": {
        "colab": {
          "base_uri": "https://localhost:8080/"
        },
        "id": "KmlH2m62w9_a",
        "outputId": "3a704304-9392-486f-da17-3b00b9882942"
      },
      "source": [
        "gradients"
      ],
      "execution_count": 58,
      "outputs": [
        {
          "output_type": "execute_result",
          "data": {
            "text/plain": [
              "[<tf.Tensor: shape=(), dtype=float32, numpy=36.0>,\n",
              " <tf.Tensor: shape=(), dtype=float32, numpy=10.0>]"
            ]
          },
          "metadata": {
            "tags": []
          },
          "execution_count": 58
        }
      ]
    },
    {
      "cell_type": "code",
      "metadata": {
        "colab": {
          "base_uri": "https://localhost:8080/",
          "height": 334
        },
        "id": "EK-SPOeew_TU",
        "outputId": "25560384-1c19-4f9c-943a-2534e48e4dab"
      },
      "source": [
        "with tf.GradientTape() as tape :\n",
        "  z = f(w1, w2)\n",
        "\n",
        "dz_dw1 = tape.gradient(z, w1) # 36.0 텐서\n",
        "dz_dw2 = tape.gradient(z, w2) # 실행 에러!!"
      ],
      "execution_count": 59,
      "outputs": [
        {
          "output_type": "error",
          "ename": "RuntimeError",
          "evalue": "ignored",
          "traceback": [
            "\u001b[0;31m---------------------------------------------------------------------------\u001b[0m",
            "\u001b[0;31mRuntimeError\u001b[0m                              Traceback (most recent call last)",
            "\u001b[0;32m<ipython-input-59-eb18dce3a9a0>\u001b[0m in \u001b[0;36m<module>\u001b[0;34m()\u001b[0m\n\u001b[1;32m      3\u001b[0m \u001b[0;34m\u001b[0m\u001b[0m\n\u001b[1;32m      4\u001b[0m \u001b[0mdz_dw1\u001b[0m \u001b[0;34m=\u001b[0m \u001b[0mtape\u001b[0m\u001b[0;34m.\u001b[0m\u001b[0mgradient\u001b[0m\u001b[0;34m(\u001b[0m\u001b[0mz\u001b[0m\u001b[0;34m,\u001b[0m \u001b[0mw1\u001b[0m\u001b[0;34m)\u001b[0m \u001b[0;31m# 36.0 텐서\u001b[0m\u001b[0;34m\u001b[0m\u001b[0;34m\u001b[0m\u001b[0m\n\u001b[0;32m----> 5\u001b[0;31m \u001b[0mdz_dw2\u001b[0m \u001b[0;34m=\u001b[0m \u001b[0mtape\u001b[0m\u001b[0;34m.\u001b[0m\u001b[0mgradient\u001b[0m\u001b[0;34m(\u001b[0m\u001b[0mz\u001b[0m\u001b[0;34m,\u001b[0m \u001b[0mw2\u001b[0m\u001b[0;34m)\u001b[0m \u001b[0;31m# 실행 에러!!\u001b[0m\u001b[0;34m\u001b[0m\u001b[0;34m\u001b[0m\u001b[0m\n\u001b[0m",
            "\u001b[0;32m/usr/local/lib/python3.6/dist-packages/tensorflow/python/eager/backprop.py\u001b[0m in \u001b[0;36mgradient\u001b[0;34m(self, target, sources, output_gradients, unconnected_gradients)\u001b[0m\n\u001b[1;32m   1012\u001b[0m     \"\"\"\n\u001b[1;32m   1013\u001b[0m     \u001b[0;32mif\u001b[0m \u001b[0mself\u001b[0m\u001b[0;34m.\u001b[0m\u001b[0m_tape\u001b[0m \u001b[0;32mis\u001b[0m \u001b[0;32mNone\u001b[0m\u001b[0;34m:\u001b[0m\u001b[0;34m\u001b[0m\u001b[0;34m\u001b[0m\u001b[0m\n\u001b[0;32m-> 1014\u001b[0;31m       raise RuntimeError(\"GradientTape.gradient can only be called once on \"\n\u001b[0m\u001b[1;32m   1015\u001b[0m                          \"non-persistent tapes.\")\n\u001b[1;32m   1016\u001b[0m     \u001b[0;32mif\u001b[0m \u001b[0mself\u001b[0m\u001b[0;34m.\u001b[0m\u001b[0m_recording\u001b[0m\u001b[0;34m:\u001b[0m\u001b[0;34m\u001b[0m\u001b[0;34m\u001b[0m\u001b[0m\n",
            "\u001b[0;31mRuntimeError\u001b[0m: GradientTape.gradient can only be called once on non-persistent tapes."
          ]
        }
      ]
    },
    {
      "cell_type": "code",
      "metadata": {
        "id": "mICRIdH9xL4X"
      },
      "source": [
        "with tf.GradientTape(persistent = True) as tape:\n",
        "  z = f(w1, w2)\n",
        "\n",
        "dz_dw1 = tape.gradient(z, w1) # 36.0 텐서\n",
        "dz_dw2 = tape.gradient(z, w2) # 10.0 텐서, 작동 이상 없음!\n",
        "del tape"
      ],
      "execution_count": 60,
      "outputs": []
    },
    {
      "cell_type": "code",
      "metadata": {
        "colab": {
          "base_uri": "https://localhost:8080/"
        },
        "id": "-ALFpm8SxcrQ",
        "outputId": "5af12a4f-fbd9-4d5d-c798-565c946057c0"
      },
      "source": [
        "dz_dw1, dz_dw2"
      ],
      "execution_count": 61,
      "outputs": [
        {
          "output_type": "execute_result",
          "data": {
            "text/plain": [
              "(<tf.Tensor: shape=(), dtype=float32, numpy=36.0>,\n",
              " <tf.Tensor: shape=(), dtype=float32, numpy=10.0>)"
            ]
          },
          "metadata": {
            "tags": []
          },
          "execution_count": 61
        }
      ]
    },
    {
      "cell_type": "code",
      "metadata": {
        "id": "Rzsy6n4lxfFh"
      },
      "source": [
        "c1, c2 = tf.constant(5.), tf.constant(3.)\n",
        "with tf.GradientTape() as tape:\n",
        "  z = f(c1, c2)\n",
        "\n",
        "  gradients = tape.gradient(z, [c1, c2]) # [None, None]이 반환"
      ],
      "execution_count": 62,
      "outputs": []
    },
    {
      "cell_type": "code",
      "metadata": {
        "colab": {
          "base_uri": "https://localhost:8080/"
        },
        "id": "9A0LCUlRxqlP",
        "outputId": "41959dbe-c296-4533-d6db-75a98d835c64"
      },
      "source": [
        "gradients"
      ],
      "execution_count": 63,
      "outputs": [
        {
          "output_type": "execute_result",
          "data": {
            "text/plain": [
              "[None, None]"
            ]
          },
          "metadata": {
            "tags": []
          },
          "execution_count": 63
        }
      ]
    },
    {
      "cell_type": "code",
      "metadata": {
        "colab": {
          "base_uri": "https://localhost:8080/"
        },
        "id": "zQn8ZubZxtmw",
        "outputId": "34a9e6f2-6963-4686-ef3f-2531d137b7b4"
      },
      "source": [
        "with tf.GradientTape() as tape:\n",
        "  tape.watch(c1)\n",
        "  tape.watch(c2)\n",
        "  z = f(c1, c2)\n",
        "\n",
        "gradients = tape.gradient(z, [c1, c2]) # [36. 텐서, 10. 텐서] 반환\n",
        "gradients"
      ],
      "execution_count": 64,
      "outputs": [
        {
          "output_type": "execute_result",
          "data": {
            "text/plain": [
              "[<tf.Tensor: shape=(), dtype=float32, numpy=36.0>,\n",
              " <tf.Tensor: shape=(), dtype=float32, numpy=10.0>]"
            ]
          },
          "metadata": {
            "tags": []
          },
          "execution_count": 64
        }
      ]
    },
    {
      "cell_type": "code",
      "metadata": {
        "colab": {
          "base_uri": "https://localhost:8080/"
        },
        "id": "eRwYqTx9x8cs",
        "outputId": "11cf7118-4ce8-4639-cec4-ed2ba584dc2b"
      },
      "source": [
        "def f(w1, w2) :\n",
        "  return 3 * w1 ** 2 + tf.stop_gradient(2 * w1 * w2)\n",
        "\n",
        "with tf.GradientTape() as tape:\n",
        "  z = f(w1, w2) # stop_gradient() 없을 때와 결과가 같습니다.\n",
        "\n",
        "gradients = tape.gradient(z, [w1, w2]) # => [30. 텐서, None] 반환\n",
        "gradients"
      ],
      "execution_count": 65,
      "outputs": [
        {
          "output_type": "execute_result",
          "data": {
            "text/plain": [
              "[<tf.Tensor: shape=(), dtype=float32, numpy=30.0>, None]"
            ]
          },
          "metadata": {
            "tags": []
          },
          "execution_count": 65
        }
      ]
    },
    {
      "cell_type": "code",
      "metadata": {
        "colab": {
          "base_uri": "https://localhost:8080/"
        },
        "id": "33-nMfN8yPHQ",
        "outputId": "2b14814f-7ed3-43de-a824-e02c99f8c7a4"
      },
      "source": [
        "x = tf.Variable(100.)\n",
        "with tf.GradientTape() as tape :\n",
        "  z = my_softplus(x)\n",
        "\n",
        "tape.gradient(z, [x])"
      ],
      "execution_count": 66,
      "outputs": [
        {
          "output_type": "execute_result",
          "data": {
            "text/plain": [
              "[<tf.Tensor: shape=(), dtype=float32, numpy=nan>]"
            ]
          },
          "metadata": {
            "tags": []
          },
          "execution_count": 66
        }
      ]
    },
    {
      "cell_type": "code",
      "metadata": {
        "id": "bZEw8c8QyYxN"
      },
      "source": [
        "@tf.custom_gradient\n",
        "def my_better_softplus(z) :\n",
        "  exp = tf.exp(z)\n",
        "  def my_softplus_gradients(grad) :\n",
        "    return grad / (1 + 1 / exp)\n",
        "  return tf.math.log(exp + 1), my_softplus_gradients"
      ],
      "execution_count": 67,
      "outputs": []
    },
    {
      "cell_type": "markdown",
      "metadata": {
        "id": "oYSWoChcyqsu"
      },
      "source": [
        "## 12.3.9 사용자 정의 훈련 반복"
      ]
    },
    {
      "cell_type": "code",
      "metadata": {
        "id": "scrdnQtVyu7-"
      },
      "source": [
        "l2_reg = keras.regularizers.l2(0.05)\n",
        "model = keras.models.Sequential([\n",
        "                                 keras.layers.Dense(30, activation = \"elu\", kernel_initializer = \"he_normal\", \n",
        "                                                    kernel_regularizer = l2_reg),\n",
        "                                 keras.layers.Dense(1, kernel_regularizer = l2_reg)\n",
        "])"
      ],
      "execution_count": 68,
      "outputs": []
    },
    {
      "cell_type": "code",
      "metadata": {
        "id": "kFUK7fN5zEqK"
      },
      "source": [
        "def random_batch(X, y, batch_size = 32) :\n",
        "  idx = np.random.randint(len(X), size = batch_size)\n",
        "  return X[idx], y[idx]"
      ],
      "execution_count": 69,
      "outputs": []
    },
    {
      "cell_type": "code",
      "metadata": {
        "id": "Gm5y7Dz_zNXc"
      },
      "source": [
        "def print_status_bar(iteration, total, loss, metrics = None) :\n",
        "  metrics = \" - \".join([\"{}: {:.4f}\".format(m.name, m.result())\n",
        "  for m in [loss] + (metrics or [])])\n",
        "  end = \"\" if iteration < total else \"\\n\"\n",
        "\n",
        "  print(\"\\r{}/{} - \".format(iteration, total) + metrics, end = end)"
      ],
      "execution_count": 71,
      "outputs": []
    },
    {
      "cell_type": "code",
      "metadata": {
        "id": "zwlI5pzDzYKP"
      },
      "source": [
        "n_epochs = 5\n",
        "batch_size = 32\n",
        "n_steps = len(X_train) // batch_size\n",
        "\n",
        "optimizer = keras.optimizers.Nadam(lr = 0.01)\n",
        "loss_fn   = keras.losses.mean_squared_error\n",
        "\n",
        "mean_loss = keras.metrics.Mean()\n",
        "metrics   = [keras.metrics.MeanAbsoluteError()]"
      ],
      "execution_count": 72,
      "outputs": []
    },
    {
      "cell_type": "code",
      "metadata": {
        "colab": {
          "base_uri": "https://localhost:8080/"
        },
        "id": "PVyHTFI60A-V",
        "outputId": "6ea7dde4-c4e9-48ab-ea6e-dc6dae8168dc"
      },
      "source": [
        "for epoch in range(1, n_epochs + 1) :\n",
        "  print(\"에포크 {}/{}\".format(epoch, n_epochs))\n",
        "\n",
        "  for step in range(1, n_steps + 1) :\n",
        "    X_batch, y_batch = random_batch(X_train_scaled, y_train)\n",
        "\n",
        "    with tf.GradientTape() as tape:\n",
        "      y_pred   = model(X_batch, training = True)\n",
        "      main_loss = tf.reduce_mean(loss_fn(y_batch, y_pred))\n",
        "      loss      = tf.add_n([main_loss] + model.losses)\n",
        "    \n",
        "    gradients = tape.gradient(loss, model.trainable_variables)\n",
        "    optimizer.apply_gradients(zip(gradients, model.trainable_variables))\n",
        "\n",
        "    # 494p 코드 추가 -----\n",
        "    for variable in model.variables :\n",
        "      if variable.constraint is not None :\n",
        "        variable.assign(variable.constraint(variable))\n",
        "    # -----\n",
        "\n",
        "    mean_loss(loss)\n",
        "    for metric in metrics :\n",
        "      metric(y_batch, y_pred)\n",
        "    print_status_bar(step * batch_size, len(y_train), mean_loss, metrics)\n",
        "\n",
        "  print_status_bar(len(y_train), len(y_train), mean_loss, metrics)\n",
        "  for metric in [mean_loss] + metrics:\n",
        "    metric.reset_states()"
      ],
      "execution_count": 78,
      "outputs": [
        {
          "output_type": "stream",
          "text": [
            "에포크 1/5\n",
            "11610/11610 - mean: 4475.5093 - mean_absolute_error: 0.8754\n",
            "에포크 2/5\n",
            "11610/11610 - mean: 3877.0715 - mean_absolute_error: 0.8119\n",
            "에포크 3/5\n",
            "11610/11610 - mean: 3434.7144 - mean_absolute_error: 0.8268\n",
            "에포크 4/5\n",
            "11610/11610 - mean: 2977.5823 - mean_absolute_error: 0.8116\n",
            "에포크 5/5\n",
            "11610/11610 - mean: 2517.7505 - mean_absolute_error: 0.7898\n"
          ],
          "name": "stdout"
        }
      ]
    },
    {
      "cell_type": "markdown",
      "metadata": {
        "id": "ggukBZD31TfP"
      },
      "source": [
        "# 12.4 텐서플로 함수와 그래프"
      ]
    },
    {
      "cell_type": "code",
      "metadata": {
        "id": "0yc0O0_13AYn"
      },
      "source": [
        "def cube(x) :\n",
        "  return x ** 3"
      ],
      "execution_count": 79,
      "outputs": []
    },
    {
      "cell_type": "code",
      "metadata": {
        "colab": {
          "base_uri": "https://localhost:8080/"
        },
        "id": "HoZx65J-3CM5",
        "outputId": "4b9daba0-5bec-4af6-88a0-716ae8d52af2"
      },
      "source": [
        "cube(2)"
      ],
      "execution_count": 80,
      "outputs": [
        {
          "output_type": "execute_result",
          "data": {
            "text/plain": [
              "8"
            ]
          },
          "metadata": {
            "tags": []
          },
          "execution_count": 80
        }
      ]
    },
    {
      "cell_type": "code",
      "metadata": {
        "colab": {
          "base_uri": "https://localhost:8080/"
        },
        "id": "kbrhdRof3DTM",
        "outputId": "917efcc9-dfd1-4c40-a718-819155bd6ead"
      },
      "source": [
        "cube(tf.constant(2.0))"
      ],
      "execution_count": 81,
      "outputs": [
        {
          "output_type": "execute_result",
          "data": {
            "text/plain": [
              "<tf.Tensor: shape=(), dtype=float32, numpy=8.0>"
            ]
          },
          "metadata": {
            "tags": []
          },
          "execution_count": 81
        }
      ]
    },
    {
      "cell_type": "code",
      "metadata": {
        "colab": {
          "base_uri": "https://localhost:8080/"
        },
        "id": "jmrn-65m3FSv",
        "outputId": "e465a4cf-ba50-4997-fd51-7f1bf37a042e"
      },
      "source": [
        "tf_cube = tf.function(cube)\n",
        "tf_cube"
      ],
      "execution_count": 83,
      "outputs": [
        {
          "output_type": "execute_result",
          "data": {
            "text/plain": [
              "<tensorflow.python.eager.def_function.Function at 0x7ff3ff9e9fd0>"
            ]
          },
          "metadata": {
            "tags": []
          },
          "execution_count": 83
        }
      ]
    },
    {
      "cell_type": "code",
      "metadata": {
        "colab": {
          "base_uri": "https://localhost:8080/"
        },
        "id": "Vg5vPUka3IkZ",
        "outputId": "0b977867-3a8b-494a-887f-bc565d4d6e2b"
      },
      "source": [
        "tf_cube(2)"
      ],
      "execution_count": 84,
      "outputs": [
        {
          "output_type": "execute_result",
          "data": {
            "text/plain": [
              "<tf.Tensor: shape=(), dtype=int32, numpy=8>"
            ]
          },
          "metadata": {
            "tags": []
          },
          "execution_count": 84
        }
      ]
    },
    {
      "cell_type": "code",
      "metadata": {
        "colab": {
          "base_uri": "https://localhost:8080/"
        },
        "id": "XLO5cYWj3OhW",
        "outputId": "57551ab6-7ea2-4cf0-c104-b2939b6b809b"
      },
      "source": [
        "tf_cube(tf.constant(2.0))"
      ],
      "execution_count": 85,
      "outputs": [
        {
          "output_type": "execute_result",
          "data": {
            "text/plain": [
              "<tf.Tensor: shape=(), dtype=float32, numpy=8.0>"
            ]
          },
          "metadata": {
            "tags": []
          },
          "execution_count": 85
        }
      ]
    },
    {
      "cell_type": "code",
      "metadata": {
        "id": "_fua7pvB3Qoz"
      },
      "source": [
        "@tf.function\n",
        "def tf_cube(x) :\n",
        "  return x ** 3"
      ],
      "execution_count": 86,
      "outputs": []
    },
    {
      "cell_type": "code",
      "metadata": {
        "colab": {
          "base_uri": "https://localhost:8080/"
        },
        "id": "5hr2isYi3Txx",
        "outputId": "179bb282-d15c-4df5-87d4-125c0c9973e8"
      },
      "source": [
        "tf_cube.python_function(2)"
      ],
      "execution_count": 87,
      "outputs": [
        {
          "output_type": "execute_result",
          "data": {
            "text/plain": [
              "8"
            ]
          },
          "metadata": {
            "tags": []
          },
          "execution_count": 87
        }
      ]
    },
    {
      "cell_type": "code",
      "metadata": {
        "id": "9xKXvrAq3W16"
      },
      "source": [
        ""
      ],
      "execution_count": null,
      "outputs": []
    }
  ]
}